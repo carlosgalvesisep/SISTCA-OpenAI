{
 "cells": [
  {
   "cell_type": "markdown",
   "metadata": {},
   "source": [
    "Despite, in it's current state, only allowing English translation, we can increment the Whisper API with other APIs so as to be able to translate audio into other languages.\n",
    "By using the standard GPT model in the Chat Completions API we can translate text to and from any language.\n",
    "\n",
    "In the following exercise you will create a program that translates an audio message into any other language. In order to achieve this you must:\n",
    "\n",
    " - Use Whisper to transcribe the original audio;\n",
    " - Translate the resulting transcription into any language using Chat Completions;\n",
    " - Return the translated audio using Text-To-Speech."
   ]
  },
  {
   "cell_type": "markdown",
   "metadata": {},
   "source": [
    "**Start by importing the required dependencies and initializing the client**"
   ]
  },
  {
   "cell_type": "code",
   "execution_count": null,
   "metadata": {},
   "outputs": [],
   "source": [
    "import os\n",
    "from dotenv import load_dotenv\n",
    "from openai import OpenAI\n",
    "\n",
    "load_dotenv()\n",
    "\n",
    "api_key = os.getenv(\"OPENAI_API_KEY\")\n",
    "\n",
    "client = OpenAI(api_key=api_key)"
   ]
  },
  {
   "cell_type": "markdown",
   "metadata": {},
   "source": [
    "**Use Whisper to transcribe the original audio**"
   ]
  },
  {
   "cell_type": "code",
   "execution_count": null,
   "metadata": {},
   "outputs": [],
   "source": [
    "# TODO #1: load the audio file\n",
    "\n",
    "\n",
    "\n",
    "# TODO #2: transcribe contents and detect the input language\n"
   ]
  },
  {
   "cell_type": "markdown",
   "metadata": {},
   "source": [
    "**Translate the transcribed text into any language using Chat Completions**"
   ]
  },
  {
   "cell_type": "code",
   "execution_count": null,
   "metadata": {},
   "outputs": [],
   "source": [
    "# TODO #3: translate the transcription to another language using chatCompletions\n"
   ]
  },
  {
   "cell_type": "markdown",
   "metadata": {},
   "source": [
    "**Return the translated audio using Text-To-Speech**"
   ]
  },
  {
   "cell_type": "code",
   "execution_count": null,
   "metadata": {},
   "outputs": [],
   "source": [
    "# TODO #4: output the translated audio file\n",
    "\n",
    "\n",
    "\n",
    "\n",
    "# Save the output audio file\n",
    "output_file_path = Path(__file__).parent / f\"translation.mp3\"\n",
    "translated_audio.stream_to_file(output_file_path)"
   ]
  },
  {
   "cell_type": "code",
   "execution_count": null,
   "metadata": {},
   "outputs": [],
   "source": [
    "# Test the output\n",
    "import IPython.display as display\n",
    "\n",
    "print(f\"Detected language: {detected_language} \\n\")\n",
    "print(f\"Transcribed text: {transcribed_text} \\n\")\n",
    "\n",
    "print(f\"Translated text: {translated_text} \\n\")\n",
    "print(f\"Translated audio file saved to {output_file_path}\")\n",
    "\n",
    "\n",
    "display.Audio(speech_file_path)\n"
   ]
  }
 ],
 "metadata": {
  "language_info": {
   "name": "python"
  }
 },
 "nbformat": 4,
 "nbformat_minor": 2
}
