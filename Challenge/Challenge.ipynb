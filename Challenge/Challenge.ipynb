{
 "cells": [
  {
   "cell_type": "markdown",
   "metadata": {},
   "source": [
    "# 6. Challenge\n",
    "\n",
    "With all tutorials done, you should now be able to answer correctly to this final challenge. \n",
    "In this section we propose you the following exercise: You have to create an assistant which will be capable of analysing and answering questions about films, series and books. The average question should look like this, 'Give me the top 10 best films of all time.'. \n",
    "\n",
    "\n",
    "\n"
   ]
  }
 ],
 "metadata": {
  "kernelspec": {
   "display_name": "openai-env",
   "language": "python",
   "name": "python3"
  },
  "language_info": {
   "name": "python",
   "version": "3.12.2"
  }
 },
 "nbformat": 4,
 "nbformat_minor": 2
}
