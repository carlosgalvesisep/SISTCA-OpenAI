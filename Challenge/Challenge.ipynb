{
 "cells": [
  {
   "cell_type": "markdown",
   "metadata": {},
   "source": [
    "# 6 Challenge\n",
    "\n",
    "With all tutorials done, you should now be able to answer correctly to this final challenge. \n",
    "In this section we propose you the following exercise: You have to create an assistant which will be capable of analysing and answering questions about films, series and books. The average question should look like this, 'Give me the top 10 best films of all time.'. \n",
    "\n",
    "We advise that you follow these steps:\n",
    "\n",
    "- Create an Assistant with function calling.\n",
    "    - For a better flexibility you should retrieve from the user query the type (movie, series, book), theme(comedy, thriller...) and quantity.\n",
    "- Create a function to retrieve information from Chat Completions.\n",
    "    - You can force Chat Completions to send the information in a specific format, like JSON.\n",
    "- Show the response in a bullet list.\n",
    "\n",
    "In our [GitHub](https://github.com/carlosgalvesisep/SISTCA-OpenAI) you can find a Flask template where you can visually test the results of your challenge. To have a compatibility with the template, make sure that your final function, the one that retrieves the assistant message, follows this format:\n"
   ]
  },
  {
   "cell_type": "code",
   "execution_count": null,
   "metadata": {},
   "outputs": [],
   "source": [
    "def get_cinema_info(type_filter, genre_filter, quantity_filter):"
   ]
  }
 ],
 "metadata": {
  "kernelspec": {
   "display_name": "openai-env",
   "language": "python",
   "name": "python3"
  },
  "language_info": {
   "codemirror_mode": {
    "name": "ipython",
    "version": 3
   },
   "file_extension": ".py",
   "mimetype": "text/x-python",
   "name": "python",
   "nbconvert_exporter": "python",
   "pygments_lexer": "ipython3",
   "version": "3.12.2"
  }
 },
 "nbformat": 4,
 "nbformat_minor": 2
}
