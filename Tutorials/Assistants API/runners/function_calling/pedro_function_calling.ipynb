{
 "cells": [
  {
   "cell_type": "markdown",
   "metadata": {},
   "source": [
    "## Function Calling\n",
    "\n",
    "Function Calling is one of Assistants´s API, which in simple terms, invokes predefined functions in order to respond to a certain prompt. As you will verify in just a moment, in this tutorial we asked our weather assistant to give us the maximum and minimum temperatures and rain probability in a certain location.  "
   ]
  },
  {
   "cell_type": "markdown",
   "metadata": {},
   "source": [
    "For this tutorial, we separated the code in different files:"
   ]
  },
  {
   "cell_type": "markdown",
   "metadata": {},
   "source": [
    "### functions.py\n",
    "In functions.py file, there are all our functions definied, `get_location_id()` and `get_weather_data()`. In order to retrieve a response from IPMA API, first it´s important to import `requests` package."
   ]
  },
  {
   "cell_type": "code",
   "execution_count": null,
   "metadata": {},
   "outputs": [],
   "source": [
    "import requests"
   ]
  },
  {
   "cell_type": "markdown",
   "metadata": {},
   "source": [
    "The following function, `get_location_id`, takes `location_name` as input and returns an id of the specific location. First of all, we create an `url`, which will be accessed in order to retrieve the actual data. To actually receive this data, we use a GET HTTP request, the `response` will then be converted to a json variable, in this case, `data`. As we now have access to all data retrieved from the GET request, now all we need is to just return the `location_id`.  "
   ]
  },
  {
   "cell_type": "code",
   "execution_count": null,
   "metadata": {},
   "outputs": [],
   "source": [
    "def get_location_id(location_name):\n",
    "    url = \"https://api.ipma.pt/open-data/distrits-islands.json\"\n",
    "    try:\n",
    "        response = requests.get(url)\n",
    "        if response.status_code == 200:\n",
    "            data = response.json()\n",
    "            for location in data[\"data\"]:\n",
    "                if location[\"local\"].lower() == location_name.lower():\n",
    "                    return str(location[\"globalIdLocal\"])\n",
    "            return None  # Location not found\n",
    "        else:\n",
    "            print(\"Failed to fetch data:\", response.status_code)\n",
    "            return None\n",
    "    except Exception as e:\n",
    "        print(\"An error occurred:\", e)\n",
    "        return None"
   ]
  },
  {
   "cell_type": "markdown",
   "metadata": {},
   "source": [
    "Our next function, `get_weather_data()`, is very similar to `get_location_id()` as we simply use the returned variable, `location_id` to access the actual weather data of the required location, which it returns as `forecast`."
   ]
  },
  {
   "cell_type": "code",
   "execution_count": null,
   "metadata": {},
   "outputs": [],
   "source": [
    "def get_weather_data(location_id):\n",
    "    url = f\"https://api.ipma.pt/open-data/forecast/meteorology/cities/daily/{location_id}.json\"\n",
    "    try:\n",
    "        response = requests.get(url)\n",
    "        if response.status_code == 200:\n",
    "            data = response.json()\n",
    "            forecast = data[\"data\"][0]\n",
    "            return forecast\n",
    "        else:\n",
    "            print(\"Failed to fetch data:\", response.status_code)\n",
    "            return None\n",
    "    except Exception as e:\n",
    "        print(\"An error occurred:\", e)\n",
    "        return None"
   ]
  },
  {
   "cell_type": "markdown",
   "metadata": {},
   "source": [
    "## Runners\n",
    "\n",
    "\n",
    "\n",
    "### streaming_run.py\n"
   ]
  },
  {
   "cell_type": "markdown",
   "metadata": {},
   "source": []
  }
 ],
 "metadata": {
  "kernelspec": {
   "display_name": "Python 3",
   "language": "python",
   "name": "python3"
  },
  "language_info": {
   "name": "python",
   "version": "3.10.12"
  }
 },
 "nbformat": 4,
 "nbformat_minor": 2
}
