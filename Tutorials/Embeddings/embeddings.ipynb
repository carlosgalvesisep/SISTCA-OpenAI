{
 "cells": [
  {
   "cell_type": "code",
   "execution_count": 1,
   "metadata": {},
   "outputs": [
    {
     "name": "stdout",
     "output_type": "stream",
     "text": [
      "Similarity:  0.88\n",
      "Almost Equal\n"
     ]
    }
   ],
   "source": [
    "import numpy as np\n",
    "from sklearn.metrics.pairwise import cosine_similarity\n",
    "\n",
    "from openai import OpenAI\n",
    "client = OpenAI()\n",
    "\n",
    "# get the embeddings for the first string\n",
    "response1 = client.embeddings.create(\n",
    "    input=\"We are testing to see if this string has any similarities to another one.\",\n",
    "    model=\"text-embedding-3-small\"\n",
    ")\n",
    "\n",
    "embeddings1 = response1.data[0].embedding\n",
    "\n",
    "# get the embeddings for the second string\n",
    "response2 = client.embeddings.create(\n",
    "    input=\"We're experimenting to determine if this string bears resemblance to another.\",\n",
    "    model=\"text-embedding-3-small\"\n",
    ")\n",
    "\n",
    "embeddings2 = response2.data[0].embedding\n",
    "\n",
    "# convert the embeddings to numpy arrays\n",
    "embeddings1 = np.array(embeddings1).reshape(1, -1)\n",
    "embeddings2 = np.array(embeddings2).reshape(1, -1)\n",
    "\n",
    "# computes the cosine similarity between the embeddings of the two strings\n",
    "similarity_score = cosine_similarity(embeddings1, embeddings2)\n",
    "\n",
    "final_score = float(format(similarity_score[0][0], \".2f\"))\n",
    "\n",
    "print(f\"Similarity: {final_score}\")\n",
    "\n",
    "# determine the level of similarity\n",
    "if final_score < 0.25:\n",
    "    print(\"Totally Different\")\n",
    "elif final_score <= 0.5:\n",
    "    print(\"Different\")\n",
    "elif final_score <= 0.75:\n",
    "    print(\"Parcial Equal\")\n",
    "elif final_score <= 0.90:\n",
    "    print(\"Almost Equal\")\n",
    "elif final_score <= 1:\n",
    "    print(\"Equal\")\n",
    "else:\n",
    "    print(\"Unknown value\")"
   ]
  }
 ],
 "metadata": {
  "kernelspec": {
   "display_name": "openai-env",
   "language": "python",
   "name": "python3"
  },
  "language_info": {
   "codemirror_mode": {
    "name": "ipython",
    "version": 3
   },
   "file_extension": ".py",
   "mimetype": "text/x-python",
   "name": "python",
   "nbconvert_exporter": "python",
   "pygments_lexer": "ipython3",
   "version": "3.12.2"
  }
 },
 "nbformat": 4,
 "nbformat_minor": 2
}
