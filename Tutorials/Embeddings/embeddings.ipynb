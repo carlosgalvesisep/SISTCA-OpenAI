{
 "cells": [
  {
   "cell_type": "markdown",
   "metadata": {},
   "source": [
    "# 4.3 Embeddings\n",
    "\n",
    "OpenAI’s text embeddings transforms strings to numbers, that allows to measure the relatedness of text strings. Embeddings are commonly used for:\n",
    "\n",
    "* Search (where results are ranked by relevance to a query string)\n",
    "* Clustering (where text strings are grouped by similarity)\n",
    "* Recommendations (where items with related text strings are recommended)\n",
    "* Anomaly detection (where outliers with little relatedness are identified)\n",
    "* Diversity measurement (where similarity distributions are analyzed)\n",
    "* Classification (where text strings are classified by their most similar label)\n",
    "\n",
    "An embedding is a vector (list) of floating point numbers. The distance between two vectors measures their relatedness. Small distances suggest high relatedness and large distances suggest low relatedness.\n",
    "\n",
    "\n",
    "Like mentioned before, Embeddings have a lot of uses but this tutorial will only focus on how to make the request and show simple method to compare two strings.\n",
    "\n",
    "**Models**\n",
    "\n",
    "Right now there are three available models for Embeddings. The ones with \"-3\" on the name are third generation models.\n",
    "\n",
    "* text-embedding-3-small\t\n",
    "* text-embedding-3-large\n",
    "* text-embedding-ada-002"
   ]
  },
  {
   "cell_type": "markdown",
   "metadata": {},
   "source": [
    "**1 - Import the necessary libraries and start the client**"
   ]
  },
  {
   "cell_type": "code",
   "execution_count": 2,
   "metadata": {},
   "outputs": [],
   "source": [
    "from openai import OpenAI\n",
    "client = OpenAI()"
   ]
  },
  {
   "cell_type": "markdown",
   "metadata": {},
   "source": [
    "**2 - Retrieve the embeddings**\n",
    "\n",
    "*model* - changes the model use to retieve information  \n",
    "*input* - string message you want to retrieve the embeddings from"
   ]
  },
  {
   "cell_type": "code",
   "execution_count": 4,
   "metadata": {},
   "outputs": [
    {
     "name": "stdout",
     "output_type": "stream",
     "text": [
      "Embeddings Example - -0.00921399425715208, -0.03483395278453827\n"
     ]
    }
   ],
   "source": [
    "response1 = client.embeddings.create(\n",
    "    input=\"We are testing to see if this string has any similarities to another one.\",\n",
    "    model=\"text-embedding-3-small\"\n",
    ")\n",
    "\n",
    "embeddings1 = response1.data[0].embedding\n",
    "\n",
    "print(f\"Embeddings Example - {embeddings1[0]}, {embeddings1[1]}\")"
   ]
  },
  {
   "cell_type": "markdown",
   "metadata": {},
   "source": [
    "### Compare two strings using embeddings and cosine similarity\n",
    "\n",
    "**1 - Import numpy and cosine_similarity**\n"
   ]
  },
  {
   "cell_type": "code",
   "execution_count": 5,
   "metadata": {},
   "outputs": [],
   "source": [
    "import numpy as np\n",
    "from sklearn.metrics.pairwise import cosine_similarity"
   ]
  },
  {
   "cell_type": "markdown",
   "metadata": {},
   "source": [
    "**2 - Retrieve the embeddings for the second string**"
   ]
  },
  {
   "cell_type": "code",
   "execution_count": 7,
   "metadata": {},
   "outputs": [],
   "source": [
    "response2 = client.embeddings.create(\n",
    "    input=\"We're experimenting to determine if this string bears resemblance to another.\",\n",
    "    model=\"text-embedding-3-small\"\n",
    ")\n",
    "\n",
    "embeddings2 = response2.data[0].embedding"
   ]
  },
  {
   "cell_type": "markdown",
   "metadata": {},
   "source": [
    "**3 - Convert the embeddings to numpy arrays**"
   ]
  },
  {
   "cell_type": "code",
   "execution_count": 8,
   "metadata": {},
   "outputs": [],
   "source": [
    "embeddings1 = np.array(embeddings1).reshape(1, -1)\n",
    "embeddings2 = np.array(embeddings2).reshape(1, -1)"
   ]
  },
  {
   "cell_type": "markdown",
   "metadata": {},
   "source": [
    "**4 - Calculate the similarity**\n",
    "\n",
    "The closer the score is to 1 the similar it is"
   ]
  },
  {
   "cell_type": "code",
   "execution_count": 10,
   "metadata": {},
   "outputs": [
    {
     "name": "stdout",
     "output_type": "stream",
     "text": [
      "Similarity: 0.88\n"
     ]
    }
   ],
   "source": [
    "similarity_score = cosine_similarity(embeddings1, embeddings2)\n",
    "\n",
    "final_score = float(format(similarity_score[0][0], \".2f\"))\n",
    "\n",
    "print(f\"Similarity: {final_score}\")"
   ]
  }
 ],
 "metadata": {
  "kernelspec": {
   "display_name": "openai-env",
   "language": "python",
   "name": "python3"
  },
  "language_info": {
   "codemirror_mode": {
    "name": "ipython",
    "version": 3
   },
   "file_extension": ".py",
   "mimetype": "text/x-python",
   "name": "python",
   "nbconvert_exporter": "python",
   "pygments_lexer": "ipython3",
   "version": "3.12.2"
  }
 },
 "nbformat": 4,
 "nbformat_minor": 2
}
